{
 "cells": [
  {
   "cell_type": "markdown",
   "metadata": {},
   "source": [
    "# Libraries are imported"
   ]
  },
  {
   "cell_type": "code",
   "execution_count": 1,
   "metadata": {},
   "outputs": [],
   "source": [
    "import cv2"
   ]
  },
  {
   "cell_type": "code",
   "execution_count": 2,
   "metadata": {},
   "outputs": [],
   "source": [
    "import os"
   ]
  },
  {
   "cell_type": "code",
   "execution_count": 3,
   "metadata": {},
   "outputs": [],
   "source": [
    "import numpy as np"
   ]
  },
  {
   "cell_type": "markdown",
   "metadata": {},
   "source": [
    "#### Image is converted to gray image because our classifier takes in a gray image (as it does not matter if image is colored or black and white to detect the image)"
   ]
  },
  {
   "cell_type": "markdown",
   "metadata": {},
   "source": [
    " Haar classifier are trained to detect certain kind of object. "
   ]
  },
  {
   "cell_type": "markdown",
   "metadata": {},
   "source": [
    "# Face Detection"
   ]
  },
  {
   "cell_type": "code",
   "execution_count": 4,
   "metadata": {},
   "outputs": [],
   "source": [
    "def faceDetection(test_img):\n",
    "    gray_img=cv2.cvtColor(test_img,cv2.COLOR_BGR2GRAY)\n",
    "    face_haar_cascade = cv2.CascadeClassifier('C:\\\\Users\\\\DELL\\\\Documents\\\\FaceMask\\\\HaarCascade\\\\haarcascade_frontalface_default.xml')\n",
    "    faces=face_haar_cascade.detectMultiScale(gray_img,scaleFactor=1.32,minNeighbors=6)\n",
    "    \n",
    "    return faces,gray_img"
   ]
  },
  {
   "cell_type": "markdown",
   "metadata": {},
   "source": [
    "Function detectMultiScale is called which is going to return the rectangle where the face is detected in that particular test image(test_img). hence gray image is passed.\n",
    "Along with it, some parameters like scaleFactor is passed to rescale the image (1.32 means we are decresing the size of the image by 32%)\n",
    "Images which are bigger in size are likely to be not detected thats why their size is reduced.\n",
    "if minNeighbors = 0 then lots of false cases will be detected.\n",
    "It should atleast have 5 neighbors to detect true positives.\n",
    "faces and gray images will be returned.\n"
   ]
  },
  {
   "cell_type": "markdown",
   "metadata": {},
   "source": [
    "\n",
    "# Training"
   ]
  },
  {
   "cell_type": "code",
   "execution_count": 5,
   "metadata": {},
   "outputs": [],
   "source": [
    "def labels_for_training_data(directory): #directory is passes\n",
    "    faces=[]\n",
    "    faceID=[]\n",
    "    \n",
    "    for path,subdirnames,filenames in os.walk(directory):\n",
    "        for filename in filenames:\n",
    "            if filename.startswith(\".\"): #especially for mac\n",
    "                print(\"Skipping System File\")\n",
    "                continue\n",
    "            id=os.path.basename(path) \n",
    "            img_path=os.path.join(path,filename)\n",
    "            print(\"img_path:\", img_path)\n",
    "            print(\"id:\",id)\n",
    "            test_img=cv2.imread(img_path) #sometimes it may return None when images doesnot get loaded properly\n",
    "            if test_img is None:\n",
    "                print(\"Image not loaded properly\")\n",
    "                continue\n",
    "            faces_rect,gray_img=faceDetection(test_img)\n",
    "            if len(faces_rect)!=1: #In case of multiple faces\n",
    "                continue\n",
    "            (x,y,w,h)=faces_rect[0]\n",
    "            roi_gray=gray_img[y:y+w,x:x+h] #only the face part will be feeded to our classifier\n",
    "            faces.append(roi_gray)\n",
    "            faceID.append(int(id))\n",
    "    return faces,faceID\n",
    "            "
   ]
  },
  {
   "cell_type": "markdown",
   "metadata": {},
   "source": [
    "labels should be only integers.\n",
    "os.walk goes recursively to the directory.\n",
    "haar classifierr accepts images and labels associated with it.\n"
   ]
  },
  {
   "cell_type": "code",
   "execution_count": 6,
   "metadata": {},
   "outputs": [],
   "source": [
    "#RN we are assuming detection for single face only. There should not be multiple face image in training data."
   ]
  },
  {
   "cell_type": "markdown",
   "metadata": {},
   "source": [
    "ROI = region of index"
   ]
  },
  {
   "cell_type": "code",
   "execution_count": 7,
   "metadata": {},
   "outputs": [],
   "source": [
    "def train_classifier(faces,faceID):\n",
    "    face_recognizer=cv2.face.LBPHFaceRecognizer_create() #local binary pattern histogram. It takes labels as numpy array\n",
    "    face_recognizer.train(faces,np.array(faceID))\n",
    "    return face_recognizer"
   ]
  },
  {
   "cell_type": "code",
   "execution_count": 8,
   "metadata": {},
   "outputs": [],
   "source": [
    "def draw_rect(test_img,face):  #it will take test image and rectangular coordinates\n",
    "    (x,y,w,h)=face\n",
    "    cv2.rectangle(test_img,(x,y),(x+w,y+h),(255,255,0),thickness=4)\n",
    "    "
   ]
  },
  {
   "cell_type": "code",
   "execution_count": 9,
   "metadata": {},
   "outputs": [],
   "source": [
    "def put_text(test_img,text,x,y):\n",
    "    cv2.putText(test_img,text,(x,y),cv2.FONT_HERSHEY_DUPLEX,4,(255,255,0),3)"
   ]
  },
  {
   "cell_type": "code",
   "execution_count": null,
   "metadata": {},
   "outputs": [],
   "source": []
  }
 ],
 "metadata": {
  "kernelspec": {
   "display_name": "Python 3",
   "language": "python",
   "name": "python3"
  },
  "language_info": {
   "codemirror_mode": {
    "name": "ipython",
    "version": 3
   },
   "file_extension": ".py",
   "mimetype": "text/x-python",
   "name": "python",
   "nbconvert_exporter": "python",
   "pygments_lexer": "ipython3",
   "version": "3.7.3"
  }
 },
 "nbformat": 4,
 "nbformat_minor": 4
}
