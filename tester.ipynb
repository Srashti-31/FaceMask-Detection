{
 "cells": [
  {
   "cell_type": "code",
   "execution_count": 1,
   "metadata": {},
   "outputs": [],
   "source": [
    "import cv2"
   ]
  },
  {
   "cell_type": "code",
   "execution_count": 2,
   "metadata": {},
   "outputs": [],
   "source": [
    "import os"
   ]
  },
  {
   "cell_type": "code",
   "execution_count": 3,
   "metadata": {},
   "outputs": [],
   "source": [
    "import faceRecognition as fr"
   ]
  },
  {
   "cell_type": "code",
   "execution_count": 4,
   "metadata": {},
   "outputs": [],
   "source": [
    "import numpy as np"
   ]
  },
  {
   "cell_type": "code",
   "execution_count": 5,
   "metadata": {},
   "outputs": [],
   "source": [
    "from win32com.client import Dispatch\n",
    "def speak(str):\n",
    "    speak = Dispatch((\"SAPI.SpVoice\"))\n",
    "    speak.Speak(str)\n"
   ]
  },
  {
   "cell_type": "code",
   "execution_count": 6,
   "metadata": {},
   "outputs": [],
   "source": [
    "test_img=cv2.imread('TestImages/104.png')\n"
   ]
  },
  {
   "cell_type": "code",
   "execution_count": 7,
   "metadata": {},
   "outputs": [],
   "source": [
    "faces_detected,gray_img=fr.faceDetection(test_img)\n"
   ]
  },
  {
   "cell_type": "code",
   "execution_count": 8,
   "metadata": {},
   "outputs": [
    {
     "name": "stdout",
     "output_type": "stream",
     "text": [
      "faces_detected: ()\n"
     ]
    }
   ],
   "source": [
    "print(\"faces_detected:\",faces_detected)"
   ]
  },
  {
   "cell_type": "code",
   "execution_count": 9,
   "metadata": {},
   "outputs": [],
   "source": [
    "# faces,faceID=fr.labels_for_training_data(\"C:\\\\Users\\\\DELL\\\\Documents\\\\FaceMask\\\\trainingImages\")\n",
    "#Data is already trained and saved in trainingData.yml file. if you wish to train your own data uncomment the above line."
   ]
  },
  {
   "cell_type": "code",
   "execution_count": 10,
   "metadata": {},
   "outputs": [],
   "source": [
    "# face_recognizer = fr.train_classifier(faces,faceID) \n",
    "# face_recognizer.save(\"trainingData.yml\")\n",
    "\n",
    "#once the whole data is trained comment the abouve two lines and uncomment the below two lines to re run the code. (also comment the above cell)\n",
    "face_recognizer= cv2.face.LBPHFaceRecognizer_create()\n",
    "face_recognizer.read(\"C:\\\\Users\\\\DELL\\\\Documents\\\\FaceMask\\\\trainingData.yml\")"
   ]
  },
  {
   "cell_type": "code",
   "execution_count": 11,
   "metadata": {},
   "outputs": [],
   "source": [
    "name={0:\"Mask\", 1:\"No Mask\"}"
   ]
  },
  {
   "cell_type": "code",
   "execution_count": 12,
   "metadata": {},
   "outputs": [],
   "source": [
    "for faces in faces_detected:\n",
    "    (x,y,w,h)=faces\n",
    "    roi_gray=gray_img[y:y+h,x:x+h]\n",
    "    label,confidence=face_recognizer.predict(roi_gray)\n",
    "    print(\"confidence:\",confidence)\n",
    "    print(\"label:\",label)\n",
    "    fr.draw_rect(test_img,faces)\n",
    "    predicted_name=name[label]\n",
    "#     if(confidence>37):\n",
    "#         continue\n",
    "    fr.put_text(test_img,predicted_name,x,y)\n",
    "    "
   ]
  },
  {
   "cell_type": "code",
   "execution_count": 14,
   "metadata": {},
   "outputs": [
    {
     "data": {
      "text/plain": [
       "<function destroyAllWindows>"
      ]
     },
     "execution_count": 14,
     "metadata": {},
     "output_type": "execute_result"
    }
   ],
   "source": [
    "resized_img=cv2.resize(test_img,(1000,700))\n",
    "# print(predicted_name)\n",
    "\n",
    "cv2.imshow(\"Face Mask detection tutorial\",resized_img)\n",
    "cv2.waitKey(0)\n",
    "cv2.destroyAllWindows\n"
   ]
  },
  {
   "cell_type": "code",
   "execution_count": 19,
   "metadata": {},
   "outputs": [
    {
     "name": "stdout",
     "output_type": "stream",
     "text": [
      "confidence: 39.46262042316143\n",
      "label: 1\n",
      "confidence: 39.77770566161628\n",
      "label: 1\n"
     ]
    }
   ],
   "source": [
    "#Additional Feature\n",
    "import os\n",
    "import cv2\n",
    "import numpy as np\n",
    "import faceRecognition as fr\n",
    "from win32com.client import Dispatch\n",
    "def speak(str):\n",
    "    speak = Dispatch((\"SAPI.SpVoice\"))\n",
    "    speak.Speak(str)\n",
    "face_recognizer = cv2.face.LBPHFaceRecognizer_create()\n",
    "face_recognizer.read('trainingData.yml')\n",
    "name = {0 : \"Mask\",1 : \"No Mask\"}\n",
    "cap=cv2.VideoCapture(0)\n",
    "while(True):\n",
    "    ret, test_img = cap.read()\n",
    "    faces_detected,gray_img=fr.faceDetection(test_img)\n",
    "    for (x,y,w,h) in faces_detected:\n",
    "      cv2.rectangle(test_img,(x,y),(x+w,y+h),(0,255,0),thickness=2)\n",
    "    resized_img = cv2.resize(test_img, (640, 480))\n",
    "    for face in faces_detected:\n",
    "        (x,y,w,h)=face\n",
    "        roi_gray=gray_img[y:y+w, x:x+h]\n",
    "        label,confidence=face_recognizer.predict(roi_gray)#predicting the label of given image\n",
    "        print(\"confidence:\",confidence)\n",
    "        print(\"label:\",label)\n",
    "        if (label == 1):\n",
    "            speak(\"Alert!! Please wear mask\")\n",
    "        fr.draw_rect(test_img,face)\n",
    "        predicted_name=name[label]\n",
    "        fr.put_text(test_img,predicted_name,x,y)\n",
    "    cv2.imshow('face recognition tutorial ',resized_img)\n",
    "    if cv2.waitKey(1) & 0xFF == ord('q'):\n",
    "        break\n",
    "        \n",
    "cap.release()\n",
    "cv2.waitKey(0)\n",
    "cv2.destroyAllWindows()"
   ]
  },
  {
   "cell_type": "code",
   "execution_count": null,
   "metadata": {},
   "outputs": [],
   "source": []
  }
 ],
 "metadata": {
  "kernelspec": {
   "display_name": "Python 3",
   "language": "python",
   "name": "python3"
  },
  "language_info": {
   "codemirror_mode": {
    "name": "ipython",
    "version": 3
   },
   "file_extension": ".py",
   "mimetype": "text/x-python",
   "name": "python",
   "nbconvert_exporter": "python",
   "pygments_lexer": "ipython3",
   "version": "3.7.3"
  }
 },
 "nbformat": 4,
 "nbformat_minor": 4
}
