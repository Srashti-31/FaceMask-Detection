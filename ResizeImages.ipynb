{
 "cells": [
  {
   "cell_type": "code",
   "execution_count": null,
   "metadata": {},
   "outputs": [],
   "source": [
    "import cv2\n",
    "import os\n",
    "import numpy as np\n",
    "\n",
    "#This module resizes image from a given directory to 100*100 pixels and writes all images to given directory\n",
    "count=0\n",
    "\n",
    "for path, subdirnames, filenames in os.walk(\"testImages\"):\n",
    "\n",
    "    for filename in filenames:\n",
    "        if filename.startswith(\".\"):\n",
    "            print(\"Skipping File:\",filename)#Skipping files that startwith .\n",
    "            continue\n",
    "        img_path=os.path.join(path, filename)#fetching image path\n",
    "        print(\"img_path\",img_path)\n",
    "        id=os.path.basename(path)#fetching subdirectory names\n",
    "        img = cv2.imread(img_path)\n",
    "        if img is None:\n",
    "            print(\"Image not loaded properly\")\n",
    "            continue\n",
    "        resized_image = cv2.resize(img, (100, 100))\n",
    "        new_path=\"resizedTrainingImages\"+\"/\"+str(id)\n",
    "        print(\"desired path is\",os.path.join(new_path, \"frame%d.jpg\" % count))#write all images to resizedTrainingImages/id directory\n",
    "        cv2.imwrite(os.path.join(new_path, \"frame%d.jpg\" % count),resized_image)\n",
    "        count += 1\n"
   ]
  }
 ],
 "metadata": {
  "kernelspec": {
   "display_name": "Python 3",
   "language": "python",
   "name": "python3"
  },
  "language_info": {
   "codemirror_mode": {
    "name": "ipython",
    "version": 3
   },
   "file_extension": ".py",
   "mimetype": "text/x-python",
   "name": "python",
   "nbconvert_exporter": "python",
   "pygments_lexer": "ipython3",
   "version": "3.7.3"
  }
 },
 "nbformat": 4,
 "nbformat_minor": 4
}
